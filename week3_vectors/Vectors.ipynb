{
  "nbformat": 4,
  "nbformat_minor": 0,
  "metadata": {
    "colab": {
      "provenance": []
    },
    "kernelspec": {
      "name": "python3",
      "display_name": "Python 3"
    },
    "language_info": {
      "name": "python"
    }
  },
  "cells": [
    {
      "cell_type": "markdown",
      "source": [
        "**Vector Creation & Basics**"
      ],
      "metadata": {
        "id": "5SoCAQwsZ8Pq"
      }
    },
    {
      "cell_type": "code",
      "source": [
        "import numpy as np"
      ],
      "metadata": {
        "id": "mExLfty1Z_VA"
      },
      "execution_count": 1,
      "outputs": []
    },
    {
      "cell_type": "code",
      "source": [
        "#1 D row-like vector\n",
        "a_1d = np.array([2, 4, -1]);\n",
        "print(\"a_1d:\", a_1d);\n",
        "print(\"Shape of a_1d:\", a_1d.shape);\n",
        "\n",
        "# 2D column vector\n",
        "a_col = np.array([[2], [4], [-1]]);\n",
        "print(\"\\na_col:\\n\", a_col)\n",
        "print(\"Shape of a_col:\", a_col.shape)"
      ],
      "metadata": {
        "colab": {
          "base_uri": "https://localhost:8080/"
        },
        "id": "NmnG-ngtaBv0",
        "outputId": "73de6e4a-1a2c-410f-9ddf-665cbc12b664"
      },
      "execution_count": 3,
      "outputs": [
        {
          "output_type": "stream",
          "name": "stdout",
          "text": [
            "a_1d: [ 2  4 -1]\n",
            "Shape of a_1d: (3,)\n",
            "\n",
            "a_col:\n",
            " [[ 2]\n",
            " [ 4]\n",
            " [-1]]\n",
            "Shape of a_col: (3, 1)\n"
          ]
        }
      ]
    },
    {
      "cell_type": "code",
      "source": [
        "# Transpose\n",
        "print(\"Transpose of a_1d (no effect):\", a_1d.T)\n",
        "print(\"Transpose of a_col (no effect):\", a_col.T)"
      ],
      "metadata": {
        "colab": {
          "base_uri": "https://localhost:8080/"
        },
        "id": "29SK3JAKbhnN",
        "outputId": "b5c3726f-ea35-4844-e0df-6d13391261e3"
      },
      "execution_count": 4,
      "outputs": [
        {
          "output_type": "stream",
          "name": "stdout",
          "text": [
            "Transpose of a_1d (no effect): [ 2  4 -1]\n",
            "Transpose of a_col (no effect): [[ 2  4 -1]]\n"
          ]
        }
      ]
    },
    {
      "cell_type": "markdown",
      "source": [
        "**Vector as Matrix Rows/Cols**"
      ],
      "metadata": {
        "id": "TFMv-uAtb3ID"
      }
    },
    {
      "cell_type": "code",
      "source": [
        "# Create two column vectors\n",
        "v1 = np.array([[3], [1]]);\n",
        "v2 = np.array([[2], [5]]);\n",
        "\n",
        "# Check shapes\n",
        "print(\"v1 shape:\", v1.shape);\n",
        "print(\"v2 shape:\", v2.shape);\n",
        "\n",
        "# Matrix addition\n",
        "print(\"v1 + v2:\\n\", v1 + v2);\n",
        "\n",
        "# Scaling a vector\n",
        "print(\"2 * v1:\\n\", 2 * v1);\n"
      ],
      "metadata": {
        "colab": {
          "base_uri": "https://localhost:8080/"
        },
        "id": "HOz3HJ8zb407",
        "outputId": "c940604b-c226-4baa-d702-d4b212709ac9"
      },
      "execution_count": 5,
      "outputs": [
        {
          "output_type": "stream",
          "name": "stdout",
          "text": [
            "v1 shape: (2, 1)\n",
            "v2 shape: (2, 1)\n",
            "v1 + v2:\n",
            " [[5]\n",
            " [6]]\n",
            "2 * v1:\n",
            " [[6]\n",
            " [2]]\n"
          ]
        }
      ]
    },
    {
      "cell_type": "code",
      "source": [
        "w1 = np.array([3, 1])     # (2,) shape\n",
        "w2 = np.array([[3], [1]]) # (2,1) shape\n",
        "\n",
        "print(w1);\n",
        "print(w2);"
      ],
      "metadata": {
        "colab": {
          "base_uri": "https://localhost:8080/"
        },
        "id": "_Y9ygB2CcuwS",
        "outputId": "32441d0c-37cb-43c1-98d3-5aade3d05d4b"
      },
      "execution_count": 6,
      "outputs": [
        {
          "output_type": "stream",
          "name": "stdout",
          "text": [
            "[3 1]\n",
            "[[3]\n",
            " [1]]\n"
          ]
        }
      ]
    },
    {
      "cell_type": "code",
      "source": [
        "# Define two vectors\n",
        "a = np.array([1, 3, -5])\n",
        "b = np.array([4, -2, -1])\n",
        "\n",
        "dot = 0;\n",
        "for i in range(len(a)):\n",
        "  dot += a[i] * b[i];\n",
        "\n",
        "\n",
        "print(\"Manual dot product:\", dot);\n",
        "\n",
        "# Numpy method\n",
        "print(\"Using np.dot:\", np.dot(a, b));\n",
        "print(\"Using @ operator:\", a @ b ); # # Python 3.5+"
      ],
      "metadata": {
        "colab": {
          "base_uri": "https://localhost:8080/"
        },
        "id": "e2blKS1rhhdy",
        "outputId": "1f48bf2d-6946-4535-bf57-c2655d27f967"
      },
      "execution_count": 10,
      "outputs": [
        {
          "output_type": "stream",
          "name": "stdout",
          "text": [
            "Manual dot product: 3\n",
            "Using np.dot: 3\n",
            "Using @ operator: 3\n"
          ]
        }
      ]
    },
    {
      "cell_type": "code",
      "source": [
        "a = np.array([[1], [2]])  # shape (2,1)\n",
        "b = np.array([[3], [4]])  # shape (2,1)\n",
        "\n",
        "print(\"a.T @ b:\", a.T @ b)  # Gives scalar: 1*3 + 2*4 = 11\n",
        "print(\"b.T @ a:\", b.T @ a)  # same\n",
        "\n",
        "print(np.linalg.norm(a))\n",
        "\n",
        "# print(a @ b);\n",
        "# This fails. Why? a is (2,1), b is (2,1) → mismatch for dot."
      ],
      "metadata": {
        "colab": {
          "base_uri": "https://localhost:8080/"
        },
        "id": "NIUq8p4diRMJ",
        "outputId": "1cb2e466-4247-478f-8ff1-316cbfac5544"
      },
      "execution_count": 16,
      "outputs": [
        {
          "output_type": "stream",
          "name": "stdout",
          "text": [
            "a.T @ b: [[11]]\n",
            "b.T @ a: [[11]]\n",
            "2.23606797749979\n"
          ]
        }
      ]
    },
    {
      "cell_type": "code",
      "source": [
        "# Cosine similarity: cos(theta) = (a·b) / (||a|| * ||b||)\n",
        "def cosine_similarity(a, b):\n",
        "    dot = np.dot(a, b)\n",
        "    norm_a = np.linalg.norm(a)\n",
        "    norm_b = np.linalg.norm(b)\n",
        "    return dot / (norm_a * norm_b)\n",
        "\n",
        "a = np.array([1, 0])\n",
        "b = np.array([0, 1])\n",
        "print(\"Cosine similarity:\", cosine_similarity(a, b))  # 0.0 → orthogonal\n"
      ],
      "metadata": {
        "colab": {
          "base_uri": "https://localhost:8080/"
        },
        "id": "nNdY_iPTimYD",
        "outputId": "97696d5a-8361-4eff-cadd-4b37cbc8e980"
      },
      "execution_count": 15,
      "outputs": [
        {
          "output_type": "stream",
          "name": "stdout",
          "text": [
            "Cosine similarity: 0.0\n"
          ]
        }
      ]
    }
  ]
}