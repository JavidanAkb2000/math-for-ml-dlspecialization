{
  "nbformat": 4,
  "nbformat_minor": 0,
  "metadata": {
    "colab": {
      "provenance": []
    },
    "kernelspec": {
      "name": "python3",
      "display_name": "Python 3"
    },
    "language_info": {
      "name": "python"
    }
  },
  "cells": [
    {
      "cell_type": "code",
      "execution_count": 2,
      "metadata": {
        "id": "acuWO4_SP5Ro"
      },
      "outputs": [],
      "source": [
        "import numpy as np\n",
        "import matplotlib.pyplot as plt\n",
        "\n"
      ]
    },
    {
      "cell_type": "code",
      "source": [
        "A = np.array([\n",
        "    [-1, 3],\n",
        "    [3, 2]\n",
        "],dtype=np.dtype(float))\n",
        "\n",
        "b = np.array([7, 1] ,dtype=np.dtype(float))\n",
        "\n",
        "print(\"Matrix A:\");\n",
        "print(A)\n",
        "print(\"\\nArray b:\")\n",
        "print(b)"
      ],
      "metadata": {
        "colab": {
          "base_uri": "https://localhost:8080/",
          "height": 0
        },
        "id": "UdaWv3tFQm0R",
        "outputId": "f8a659fe-2c6e-42f3-b825-9fc507c74589"
      },
      "execution_count": 3,
      "outputs": [
        {
          "output_type": "stream",
          "name": "stdout",
          "text": [
            "Matrix A:\n",
            "[[-1.  3.]\n",
            " [ 3.  2.]]\n",
            "\n",
            "Array b:\n",
            "[7. 1.]\n"
          ]
        }
      ]
    },
    {
      "cell_type": "code",
      "source": [
        "print(f\"Shape of A: {A.shape}\")\n",
        "print(f\"Shape of b: {b.shape}\")"
      ],
      "metadata": {
        "colab": {
          "base_uri": "https://localhost:8080/",
          "height": 0
        },
        "id": "6LD3SpXFSZGm",
        "outputId": "921f0ac6-64f0-4851-ee1e-d28a8f83e6eb"
      },
      "execution_count": 4,
      "outputs": [
        {
          "output_type": "stream",
          "name": "stdout",
          "text": [
            "Shape of A: (2, 2)\n",
            "Shape of b: (2,)\n"
          ]
        }
      ]
    },
    {
      "cell_type": "code",
      "source": [
        "# Solving systems of linear equation with linalg\n",
        "x = np.linalg.solve(A, b);\n",
        "print(f\"Solution: {x}\");"
      ],
      "metadata": {
        "colab": {
          "base_uri": "https://localhost:8080/",
          "height": 0
        },
        "id": "Xuh3ncmETei2",
        "outputId": "f72ef6a6-fa85-48de-bcc9-40e72c5e6fa8"
      },
      "execution_count": 5,
      "outputs": [
        {
          "output_type": "stream",
          "name": "stdout",
          "text": [
            "Solution: [-1.  2.]\n"
          ]
        }
      ]
    },
    {
      "cell_type": "code",
      "source": [
        "# Calculating the determinant of matrix with linalg.det\n",
        "d = np.linalg.det(A);\n",
        "print(f\"Determinant of matrix A: {d:.2f}\");"
      ],
      "metadata": {
        "colab": {
          "base_uri": "https://localhost:8080/",
          "height": 0
        },
        "id": "xIaQGIWTUf5w",
        "outputId": "f076b0a7-fa99-4637-a509-afdf4b18954c"
      },
      "execution_count": 11,
      "outputs": [
        {
          "output_type": "stream",
          "name": "stdout",
          "text": [
            "Determinant of matrix A: -11.00\n"
          ]
        }
      ]
    },
    {
      "cell_type": "code",
      "source": [
        "A_system = np.hstack((A, b.reshape((2, 1))))\n",
        "print(A_system)\n",
        "print(\"------------------\")\n",
        "print(A_system[1])"
      ],
      "metadata": {
        "colab": {
          "base_uri": "https://localhost:8080/",
          "height": 0
        },
        "id": "isVu-v5vVWYi",
        "outputId": "30e79a08-fb82-44a9-9551-f8cbb282f32c"
      },
      "execution_count": 16,
      "outputs": [
        {
          "output_type": "stream",
          "name": "stdout",
          "text": [
            "[[-1.  3.  7.]\n",
            " [ 3.  2.  1.]]\n",
            "------------------\n",
            "[3. 2. 1.]\n"
          ]
        }
      ]
    },
    {
      "cell_type": "code",
      "source": [
        "# System of linear equation with no solutions\n",
        "A_2 = np.array ([\n",
        "    [-1, 3],\n",
        "    [3, -9]\n",
        "], dtype=np.dtype(float))\n",
        "b_2 = np.array([7, 1], dtype=np.dtype(float))\n",
        "d_2 = np.linalg.det(A_2)\n",
        "\n",
        "print(f\"Determinant of matrix A_2: {d_2:.2f}\")"
      ],
      "metadata": {
        "colab": {
          "base_uri": "https://localhost:8080/",
          "height": 0
        },
        "id": "hnry3l5sXcM6",
        "outputId": "dcad5f40-688a-4ee1-c931-0d5d3f7104bc"
      },
      "execution_count": 17,
      "outputs": [
        {
          "output_type": "stream",
          "name": "stdout",
          "text": [
            "Determinant of matrix A_2: 0.00\n"
          ]
        }
      ]
    },
    {
      "cell_type": "code",
      "source": [
        "# Checking the singularity , non-singularity\n",
        "try:\n",
        "    x_2 = np.linalg.solve(A_2, b_2)\n",
        "except np.linalg.LinAlgError as err:\n",
        "    print(err)"
      ],
      "metadata": {
        "colab": {
          "base_uri": "https://localhost:8080/",
          "height": 0
        },
        "id": "I66WW5fpYIjo",
        "outputId": "dd324fe3-5203-45d5-e98f-19d95e9de4ca"
      },
      "execution_count": 18,
      "outputs": [
        {
          "output_type": "stream",
          "name": "stdout",
          "text": [
            "Singular matrix\n"
          ]
        }
      ]
    },
    {
      "cell_type": "code",
      "source": [
        "A_2_system = np.hstack((A_2, b_2.reshape((2, 1))))\n",
        "print(A_2_system)"
      ],
      "metadata": {
        "colab": {
          "base_uri": "https://localhost:8080/",
          "height": 0
        },
        "id": "Hm3UEQtCYefu",
        "outputId": "e041604c-5fba-4255-cc9e-7ca8c32df5be"
      },
      "execution_count": 19,
      "outputs": [
        {
          "output_type": "stream",
          "name": "stdout",
          "text": [
            "[[-1.  3.  7.]\n",
            " [ 3. -9.  1.]]\n"
          ]
        }
      ]
    },
    {
      "cell_type": "markdown",
      "source": [
        "**System of Linear Equations with an Infinite Number of Solutions**"
      ],
      "metadata": {
        "id": "mdwB6KLCY1sn"
      }
    },
    {
      "cell_type": "code",
      "source": [
        "b_3 = np.array([7, -21], dtype=np.dtype(float))\n",
        "A_3_system = np.hstack(((A_2, b_3.reshape(2, 1))))\n",
        "print(A_3_system)"
      ],
      "metadata": {
        "colab": {
          "base_uri": "https://localhost:8080/",
          "height": 0
        },
        "id": "qExHRS6tY3og",
        "outputId": "1088712b-893e-4e3d-dcf7-bd294932b1dc"
      },
      "execution_count": 20,
      "outputs": [
        {
          "output_type": "stream",
          "name": "stdout",
          "text": [
            "[[ -1.   3.   7.]\n",
            " [  3.  -9. -21.]]\n"
          ]
        }
      ]
    }
  ]
}