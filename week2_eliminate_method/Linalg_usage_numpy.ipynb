{
  "nbformat": 4,
  "nbformat_minor": 0,
  "metadata": {
    "colab": {
      "provenance": []
    },
    "kernelspec": {
      "name": "python3",
      "display_name": "Python 3"
    },
    "language_info": {
      "name": "python"
    }
  },
  "cells": [
    {
      "cell_type": "markdown",
      "source": [
        "![systemsoflinear.png](data:image/png;base64,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)"
      ],
      "metadata": {
        "id": "ZshdIbjbI08H"
      }
    },
    {
      "cell_type": "code",
      "source": [
        "# I am going to represent and solve linear equation above with matrices and numpy lib."
      ],
      "metadata": {
        "id": "HomkgjXTI6P0"
      },
      "execution_count": null,
      "outputs": []
    },
    {
      "cell_type": "code",
      "source": [
        "import numpy as np"
      ],
      "metadata": {
        "id": "Fm1xdo9gJBfL"
      },
      "execution_count": 1,
      "outputs": []
    },
    {
      "cell_type": "code",
      "source": [
        "# Representing coefficents with matrix 'A'\n",
        "A = np.array([\n",
        "    [4 , -3 , 1],\n",
        "    [2 , 1 , 3],\n",
        "    [-1, 2, -5]\n",
        "], dtype=np.dtype(float));\n",
        "\n",
        "# Representing true results with 'b'\n",
        "b = np.array([-10, 0, 17], dtype = np.dtype(float));\n",
        "print(f\"Matrix A: {A}\\n\");\n",
        "print(f\"Array b: {b}\");"
      ],
      "metadata": {
        "colab": {
          "base_uri": "https://localhost:8080/"
        },
        "id": "YFcjib3cJEv1",
        "outputId": "8fa64cf2-451d-4e69-9124-c95c7052cf9f"
      },
      "execution_count": 16,
      "outputs": [
        {
          "output_type": "stream",
          "name": "stdout",
          "text": [
            "Matrix A: [[ 4. -3.  1.]\n",
            " [ 2.  1.  3.]\n",
            " [-1.  2. -5.]]\n",
            "\n",
            "Array b: [-10.   0.  17.]\n"
          ]
        }
      ]
    },
    {
      "cell_type": "code",
      "source": [
        "# Checking the dimension of A and b using shape() function\n",
        "print(f\"Shape of A: {np.shape(A)}\");\n",
        "print(f\"Shape of b: {np.shape(b)}\");"
      ],
      "metadata": {
        "colab": {
          "base_uri": "https://localhost:8080/"
        },
        "id": "-UMALI0PLOiU",
        "outputId": "37bd92a5-51de-4aeb-a213-e4c52136db0f"
      },
      "execution_count": 17,
      "outputs": [
        {
          "output_type": "stream",
          "name": "stdout",
          "text": [
            "Shape of A: (3, 3)\n",
            "Shape of b: (3,)\n"
          ]
        }
      ]
    },
    {
      "cell_type": "code",
      "source": [
        "# Here i'm using np.linalg.solve(A, b) function to find the solution of system (1) aka 'A'\n",
        "# The result will be saved in the 1-D array x.\n",
        "# The elements will correspond to the values of x1, x2, x3\n",
        "\n",
        "x = np.linalg.solve(A, b);\n",
        "print(f\"Solution: {x}\");\n",
        "\n",
        "# If we subsitute [1. 4. -2.] in to the original system of equation then we can see the consistency\n",
        "\n"
      ],
      "metadata": {
        "colab": {
          "base_uri": "https://localhost:8080/"
        },
        "id": "WIT6JogqLlUe",
        "outputId": "6baa27ca-a1a3-48dc-f915-93197b1a63d1"
      },
      "execution_count": 18,
      "outputs": [
        {
          "output_type": "stream",
          "name": "stdout",
          "text": [
            "Solution: [ 1.  4. -2.]\n"
          ]
        }
      ]
    },
    {
      "cell_type": "markdown",
      "source": [
        "**Evaluating the Determinant of a Matrix**"
      ],
      "metadata": {
        "id": "KgPeuN47MZFw"
      }
    },
    {
      "cell_type": "code",
      "source": [
        "# A linear system containing three equations with three unknown variables will have one solution if and only if the matrix  𝐴\n",
        "# has a non-zero determinant.\n",
        "\n",
        "det = np.linalg.det(A)\n",
        "print(f\"Determinant of matrix A: {det: .2f}\")\n",
        "\n",
        "# Determinant is non-zero and it is A: -60.00\n"
      ],
      "metadata": {
        "colab": {
          "base_uri": "https://localhost:8080/"
        },
        "id": "8IK8QOwZMhWL",
        "outputId": "0d541b15-8dac-47c6-e76d-563596811808"
      },
      "execution_count": 23,
      "outputs": [
        {
          "output_type": "stream",
          "name": "stdout",
          "text": [
            "Determinant of matrix A: -60.00\n"
          ]
        }
      ]
    },
    {
      "cell_type": "markdown",
      "source": [
        "**What happens if the system has no unique solution?**"
      ],
      "metadata": {
        "id": "l6luhlKhRguY"
      }
    },
    {
      "cell_type": "markdown",
      "source": [
        "![nounnique.png](data:image/png;base64,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)"
      ],
      "metadata": {
        "id": "91jVrO1sRuRE"
      }
    },
    {
      "cell_type": "code",
      "source": [
        "A_2 = np.array([\n",
        "    [1, 1, 1],\n",
        "    [0, 1, -3],\n",
        "    [2, 1, 5]\n",
        "], dtype=np.dtype(float));\n",
        "\n",
        "print(A)\n",
        "\n",
        "b_2 = np.array([2, 1, 0], dtype=np.dtype(float));\n",
        "\n",
        "print(b)\n",
        "\n",
        "result = np.linalg.solve(A_2, b_2)\n",
        "det = np.linalg.det(A_2)\n",
        "print(det)\n",
        "print(result)\n",
        "\n",
        "# Result will be an Error that dictates \"Singular matrix\".Because determinant is 0.\n",
        "\n"
      ],
      "metadata": {
        "colab": {
          "base_uri": "https://localhost:8080/"
        },
        "id": "mz8rXRs6Rw10",
        "outputId": "d8b97b28-d651-435f-8814-8e0df26ecf83"
      },
      "execution_count": 27,
      "outputs": [
        {
          "output_type": "stream",
          "name": "stdout",
          "text": [
            "[[ 4. -3.  1.]\n",
            " [ 2.  1.  3.]\n",
            " [-1.  2. -5.]]\n",
            "[2. 1. 0.]\n",
            "0.0\n"
          ]
        }
      ]
    }
  ]
}