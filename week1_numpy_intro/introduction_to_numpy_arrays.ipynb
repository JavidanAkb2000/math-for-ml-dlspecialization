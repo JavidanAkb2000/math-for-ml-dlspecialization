{
  "nbformat": 4,
  "nbformat_minor": 0,
  "metadata": {
    "colab": {
      "provenance": []
    },
    "kernelspec": {
      "name": "python3",
      "display_name": "Python 3"
    },
    "language_info": {
      "name": "python"
    }
  },
  "cells": [
    {
      "cell_type": "code",
      "execution_count": 3,
      "metadata": {
        "id": "-84LKmMqyVMS",
        "colab": {
          "base_uri": "https://localhost:8080/"
        },
        "outputId": "27e6e324-3b38-4401-ffd7-3be902be438f"
      },
      "outputs": [
        {
          "output_type": "stream",
          "name": "stdout",
          "text": [
            "Hello Numpy\n"
          ]
        }
      ],
      "source": [
        "test = \"Hello Numpy\";\n",
        "print(test);"
      ]
    },
    {
      "cell_type": "code",
      "source": [
        "import numpy as np"
      ],
      "metadata": {
        "id": "ZxnNosQezZDe"
      },
      "execution_count": 4,
      "outputs": []
    },
    {
      "cell_type": "code",
      "source": [
        "one_dimensional_array = np.array([1, 2, 3]);\n",
        "print(one_dimensional_array);\n",
        "\n"
      ],
      "metadata": {
        "colab": {
          "base_uri": "https://localhost:8080/"
        },
        "id": "fe9vFFApzc3V",
        "outputId": "dbb39e21-bde6-41ea-fddd-93d48e137bbf"
      },
      "execution_count": 6,
      "outputs": [
        {
          "output_type": "stream",
          "name": "stdout",
          "text": [
            "[1 2 3]\n"
          ]
        }
      ]
    },
    {
      "cell_type": "code",
      "source": [
        "# Create an array with 5 integers, starting from the default integer 0.\n",
        "b = np.arange(5);\n",
        "print(b);"
      ],
      "metadata": {
        "colab": {
          "base_uri": "https://localhost:8080/"
        },
        "id": "2-SnJyyB1-jP",
        "outputId": "851fd658-d33a-45a8-d863-d7383c6fdea8"
      },
      "execution_count": 15,
      "outputs": [
        {
          "output_type": "stream",
          "name": "stdout",
          "text": [
            "[0 1 2 3 4]\n"
          ]
        }
      ]
    },
    {
      "cell_type": "code",
      "source": [
        "# Create an array that starts from the integer 5, ends at 30, incremented by 5.\n",
        "c = np.arange(5, 30, 5);\n",
        "print(c);"
      ],
      "metadata": {
        "colab": {
          "base_uri": "https://localhost:8080/"
        },
        "id": "KP-lQt_v2KTE",
        "outputId": "6fa03031-ed36-4ae0-c1df-c5ef05aef482"
      },
      "execution_count": 14,
      "outputs": [
        {
          "output_type": "stream",
          "name": "stdout",
          "text": [
            "[ 5 10 15 20 25]\n"
          ]
        }
      ]
    },
    {
      "cell_type": "code",
      "source": [
        "lin_spaced_arr = np.linspace(0, 100, 5, dtype=int);\n",
        "lin_spaced_arr_float = np.linspace(0, 100, 5);\n",
        "print(lin_spaced_arr);\n",
        "print(lin_spaced_arr.dtype);\n",
        "print(lin_spaced_arr_float);\n",
        "print(lin_spaced_arr_float.dtype);"
      ],
      "metadata": {
        "colab": {
          "base_uri": "https://localhost:8080/"
        },
        "id": "NeUnyvZ03LCW",
        "outputId": "8cca889c-cf4e-4dbb-c0dd-6c19146457e1"
      },
      "execution_count": 24,
      "outputs": [
        {
          "output_type": "stream",
          "name": "stdout",
          "text": [
            "[  0  25  50  75 100]\n",
            "int64\n",
            "[  0.  25.  50.  75. 100.]\n",
            "float64\n"
          ]
        }
      ]
    },
    {
      "cell_type": "code",
      "source": [
        "# <U15 - 15 here shows the count of the characters of string which is 30 there\n",
        "char_array = np.array([\"I'll crush Machine Learning!!!\"]);\n",
        "print(char_array);\n",
        "print(char_array.dtype);"
      ],
      "metadata": {
        "colab": {
          "base_uri": "https://localhost:8080/"
        },
        "id": "JjLsv39B3cI8",
        "outputId": "c18c2a89-bf23-4341-b02f-e468494f19d0"
      },
      "execution_count": 29,
      "outputs": [
        {
          "output_type": "stream",
          "name": "stdout",
          "text": [
            "[\"I'll crush Machine Learning!!!\"]\n",
            "<U30\n"
          ]
        }
      ]
    },
    {
      "cell_type": "code",
      "source": [
        "# Return a new array of shape 5, filled with ones. by default dtype=float\n",
        "ones_array = np.ones(5, dtype=int);\n",
        "print(ones_array);\n",
        "\n",
        "# Return a new array of shape 5, filled with zeros. by default dtype=float\n",
        "zeros_array = np.zeros(5, dtype=int);\n",
        "print(zeros_array);\n",
        "\n",
        "# Return a new uninitialzied array of shape 3.\n",
        "empty_array = np.empty(5, dtype=int);\n",
        "print(empty_array);\n",
        "\n",
        "# Returns a new array with values chosen at random\n",
        "# Return a new array of shape 3 with random numbers between 0 and 1.\n",
        "# Always float by default\n",
        "rand_array = np.random.rand(3);\n",
        "rand_array_int = np.random.randint(0, 100, 5, dtype=int);\n",
        "print(rand_array);\n",
        "print(rand_array_int);\n"
      ],
      "metadata": {
        "colab": {
          "base_uri": "https://localhost:8080/"
        },
        "id": "BAHcVJhZ5dXN",
        "outputId": "26e26b97-e0a6-4011-c7e5-bc42cc6960a2"
      },
      "execution_count": 52,
      "outputs": [
        {
          "output_type": "stream",
          "name": "stdout",
          "text": [
            "[1 1 1 1 1]\n",
            "[0 0 0 0 0]\n",
            "[0 0 0 0 0]\n",
            "[0.16594062 0.37300964 0.92911481]\n",
            "[12 90 16 63 35]\n"
          ]
        }
      ]
    },
    {
      "cell_type": "markdown",
      "source": [
        "**Multi Dimensional Arrays**"
      ],
      "metadata": {
        "id": "IByti-ol9FHN"
      }
    },
    {
      "cell_type": "code",
      "source": [
        "# Create a 2 dimensional array (2-D)\n",
        "two_dim_array = np.array([[1, 2, 3], [4, 5, 6]]);\n",
        "print(two_dim_array);"
      ],
      "metadata": {
        "colab": {
          "base_uri": "https://localhost:8080/"
        },
        "id": "t1yHqNGL9Q7E",
        "outputId": "8baf8d82-167a-4b33-842f-ff713c4d5da7"
      },
      "execution_count": 53,
      "outputs": [
        {
          "output_type": "stream",
          "name": "stdout",
          "text": [
            "[[1 2 3]\n",
            " [4 5 6]]\n"
          ]
        }
      ]
    },
    {
      "cell_type": "code",
      "source": [
        "# Alternative way of creating multidimensional array is to reshape 1D array.\n",
        "# Using mp.reshape() - method\n",
        "\n",
        "#1-D array\n",
        "one_dim_array = np.array([1, 2, 3, 4, 5, 6]);\n",
        "\n",
        "# Multidimensional array using reshape()\n",
        "multi_dim_arr = np.reshape(\n",
        "    one_dim_array, # the array to be reshaped\n",
        "     (2, 3) # dimensions of the new array\n",
        ");\n",
        "\n",
        "print(multi_dim_arr);"
      ],
      "metadata": {
        "colab": {
          "base_uri": "https://localhost:8080/"
        },
        "id": "aqK2nqqO-c3U",
        "outputId": "97fde499-c366-46dc-c56c-e2fe9951e78c"
      },
      "execution_count": 54,
      "outputs": [
        {
          "output_type": "stream",
          "name": "stdout",
          "text": [
            "[[1 2 3]\n",
            " [4 5 6]]\n"
          ]
        }
      ]
    },
    {
      "cell_type": "markdown",
      "source": [
        "**Finding size, shape, and dimension**"
      ],
      "metadata": {
        "id": "6ES-g-Hq_Zxr"
      }
    },
    {
      "cell_type": "code",
      "source": [
        "# Dimension of the 2-D array multi_dim_arr\n",
        "print(multi_dim_arr.ndim);\n",
        "\n",
        "\n",
        "# Shape of the 2-D array multi_dim_arr\n",
        "# Returns shape of 2 rows and 3 columns\n",
        "print(multi_dim_arr.shape);\n",
        "\n",
        "# Size of the array multi_dim_arr\n",
        "# Returns total number of elements\n",
        "print(multi_dim_arr.size);"
      ],
      "metadata": {
        "colab": {
          "base_uri": "https://localhost:8080/"
        },
        "id": "uMhNcDuu_e9D",
        "outputId": "9531f8d5-aabc-4d79-a7ff-685a3a15f5d0"
      },
      "execution_count": 57,
      "outputs": [
        {
          "output_type": "stream",
          "name": "stdout",
          "text": [
            "2\n",
            "(2, 3)\n",
            "6\n"
          ]
        }
      ]
    },
    {
      "cell_type": "markdown",
      "source": [
        "**Array math operations**"
      ],
      "metadata": {
        "id": "NGA3bhdaAfuF"
      }
    },
    {
      "cell_type": "code",
      "source": [
        "arr_1 = np.array([2, 4, 6]);\n",
        "arr_2 = np.array([1, 3, 5]);\n",
        "\n",
        "# Adding twp 1-D arrays\n",
        "\n",
        "addition = arr_1 + arr_2;\n",
        "print(addition);\n",
        "\n",
        "# Subtracting two 1-D arrays\n",
        "subtraction = arr_1 - arr_2;\n",
        "print(subtraction);\n",
        "\n",
        "# Multiplying two 1-D arrays elementwise\n",
        "multiplication = arr_1 * arr_2;\n",
        "print(multiplication);\n",
        "\n",
        "# Dividing two 1-D arrays elementwise\n",
        "division = arr_1 / arr_2;\n",
        "print(division);"
      ],
      "metadata": {
        "colab": {
          "base_uri": "https://localhost:8080/"
        },
        "id": "59frXHgVBb9D",
        "outputId": "9d0c39e2-f76e-4f84-d783-616f60a005a5"
      },
      "execution_count": 60,
      "outputs": [
        {
          "output_type": "stream",
          "name": "stdout",
          "text": [
            "[ 3  7 11]\n",
            "[1 1 1]\n",
            "[ 2 12 30]\n",
            "[2.         1.33333333 1.2       ]\n"
          ]
        }
      ]
    },
    {
      "cell_type": "code",
      "source": [
        "# Broadcasting\n",
        "vector = np.array([1, 2]);\n",
        "vector * 1.6\n",
        "print(vector*1.6)"
      ],
      "metadata": {
        "colab": {
          "base_uri": "https://localhost:8080/"
        },
        "id": "NsMBWPwbAi9l",
        "outputId": "fbbc4590-d8f5-4fee-b3c4-da3a01d5db79"
      },
      "execution_count": 62,
      "outputs": [
        {
          "output_type": "stream",
          "name": "stdout",
          "text": [
            "[1.6 3.2]\n"
          ]
        }
      ]
    },
    {
      "cell_type": "markdown",
      "source": [
        "**Indexing**"
      ],
      "metadata": {
        "id": "YW7pBmalDkq-"
      }
    },
    {
      "cell_type": "code",
      "source": [
        "# Select the third element of the array. Remember the counting starts from 0.\n",
        "a = ([1, 2, 3, 4, 5])\n",
        "print(a[2])\n",
        "\n",
        "# Select the first element of the array.\n",
        "print(a[0])\n",
        "\n",
        "# Indexing on a 2-D array\n",
        "two_dim = np.array(([1, 2, 3],\n",
        "          [4, 5, 6],\n",
        "          [7, 8, 9]))\n",
        "\n",
        "# Select element number 8 from the 2-D array using indices i, j.\n",
        "print(two_dim[2][1])"
      ],
      "metadata": {
        "colab": {
          "base_uri": "https://localhost:8080/"
        },
        "id": "m8Yb4G56Dl0z",
        "outputId": "b3244f57-6029-44fc-e4e1-6c07f5dfe7f9"
      },
      "execution_count": 64,
      "outputs": [
        {
          "output_type": "stream",
          "name": "stdout",
          "text": [
            "3\n",
            "1\n",
            "8\n"
          ]
        }
      ]
    },
    {
      "cell_type": "markdown",
      "source": [
        "**Slicing**"
      ],
      "metadata": {
        "id": "i601S10jDt8w"
      }
    },
    {
      "cell_type": "code",
      "source": [
        "# Slice the array a to get the array [2,3,4]\n",
        "sliced_arr = a[1:4]\n",
        "print(sliced_arr)"
      ],
      "metadata": {
        "colab": {
          "base_uri": "https://localhost:8080/"
        },
        "id": "6DOMVqmkDvlL",
        "outputId": "b705b058-bd94-43fc-ab4b-acb70b7f19f3"
      },
      "execution_count": 66,
      "outputs": [
        {
          "output_type": "stream",
          "name": "stdout",
          "text": [
            "[2, 3, 4]\n"
          ]
        }
      ]
    },
    {
      "cell_type": "code",
      "source": [
        "# Slice the array to get the array [1, 2, 3]\n",
        "sliced_arr = a[:3];\n",
        "print(sliced_arr)"
      ],
      "metadata": {
        "colab": {
          "base_uri": "https://localhost:8080/"
        },
        "id": "Il1RYkLrD6Wb",
        "outputId": "3ac0fc29-2171-409a-fb68-209d81ebf003"
      },
      "execution_count": 67,
      "outputs": [
        {
          "output_type": "stream",
          "name": "stdout",
          "text": [
            "[1, 2, 3]\n"
          ]
        }
      ]
    },
    {
      "cell_type": "code",
      "source": [
        "# Slice the array to get the array [1, 3, 5]\n",
        "sliced_arr = a[::2]\n",
        "print(sliced_arr)"
      ],
      "metadata": {
        "colab": {
          "base_uri": "https://localhost:8080/"
        },
        "id": "xKnOUalgEOW9",
        "outputId": "816a2f41-f877-4b1f-ccb8-82822a7688b8"
      },
      "execution_count": 70,
      "outputs": [
        {
          "output_type": "stream",
          "name": "stdout",
          "text": [
            "[1, 3, 5]\n"
          ]
        }
      ]
    },
    {
      "cell_type": "code",
      "source": [
        "# Note that a == a[:] == a[::]\n",
        "print(a == a[:] == a[::])"
      ],
      "metadata": {
        "colab": {
          "base_uri": "https://localhost:8080/"
        },
        "id": "9UZJg-BGEaTy",
        "outputId": "9247cd70-2ec4-4f3c-9a23-501d766f59c6"
      },
      "execution_count": 71,
      "outputs": [
        {
          "output_type": "stream",
          "name": "stdout",
          "text": [
            "True\n"
          ]
        }
      ]
    },
    {
      "cell_type": "code",
      "source": [
        "print(a is a[:])"
      ],
      "metadata": {
        "colab": {
          "base_uri": "https://localhost:8080/"
        },
        "id": "9TYfxSOxFTvz",
        "outputId": "e21e85e7-db12-44fb-e34d-c291e410cb35"
      },
      "execution_count": 72,
      "outputs": [
        {
          "output_type": "stream",
          "name": "stdout",
          "text": [
            "False\n"
          ]
        }
      ]
    },
    {
      "cell_type": "code",
      "source": [
        "print(a == a[:] == a[::])"
      ],
      "metadata": {
        "colab": {
          "base_uri": "https://localhost:8080/"
        },
        "id": "mgSzifByFYi6",
        "outputId": "aa99b55f-7f8c-447b-ab62-8a4b439790b5"
      },
      "execution_count": 73,
      "outputs": [
        {
          "output_type": "stream",
          "name": "stdout",
          "text": [
            "True\n"
          ]
        }
      ]
    },
    {
      "cell_type": "code",
      "source": [
        "# Let's slice the two_dim array to get the first row\n",
        "print(two_dim_array)\n",
        "sliced_arr_two_dim = two_dim_array[:1]\n",
        "print(sliced_arr_two_dim)"
      ],
      "metadata": {
        "colab": {
          "base_uri": "https://localhost:8080/"
        },
        "id": "RAuSKv4LFllm",
        "outputId": "5ea4c3e3-8c30-4dc5-d8c1-eb3c15596e81"
      },
      "execution_count": 80,
      "outputs": [
        {
          "output_type": "stream",
          "name": "stdout",
          "text": [
            "[[1 2 3]\n",
            " [4 5 6]]\n",
            "[[1 2 3]]\n"
          ]
        }
      ]
    },
    {
      "cell_type": "code",
      "source": [
        "# Similarily, slice the two_dim array to get the last two rows\n",
        "sliced_two_dim_rows = two_dim[1:3]\n",
        "print(sliced_two_dim_rows)"
      ],
      "metadata": {
        "colab": {
          "base_uri": "https://localhost:8080/"
        },
        "id": "Tj4-yqY2GN1l",
        "outputId": "87d2cfaf-25e9-4f9e-d997-96a70dedfe6e"
      },
      "execution_count": 81,
      "outputs": [
        {
          "output_type": "stream",
          "name": "stdout",
          "text": [
            "[[4 5 6]\n",
            " [7 8 9]]\n"
          ]
        }
      ]
    },
    {
      "cell_type": "code",
      "source": [
        "sliced_two_dim_rows = two_dim[:, 1]\n",
        "print(sliced_two_dim_rows)"
      ],
      "metadata": {
        "colab": {
          "base_uri": "https://localhost:8080/"
        },
        "id": "QgMI5PD9GPXb",
        "outputId": "ac7ab437-e2aa-43fd-c4e6-b463b6fc7a9a"
      },
      "execution_count": 82,
      "outputs": [
        {
          "output_type": "stream",
          "name": "stdout",
          "text": [
            "[2 5 8]\n"
          ]
        }
      ]
    },
    {
      "cell_type": "markdown",
      "source": [
        "**Stacking**"
      ],
      "metadata": {
        "id": "Ubz0N44BHEVT"
      }
    },
    {
      "cell_type": "code",
      "source": [
        "a1 = np.array([[1,1], [2,2]]);\n",
        "a2 = np.array([[3,3], [4,4]]);\n",
        "\n",
        "print(f'a1:\\n{a1}')\n",
        "print(f'a2:\\n{a2}')\n",
        "\n",
        "# Stack the array vertically\n",
        "vert_stack = np.vstack((a1, a2))\n",
        "print('--------------')\n",
        "print(vert_stack)\n",
        "\n",
        "# Stack the arrays horizontally\n",
        "horz_stack = np.hstack((a1, a2))\n",
        "print('--------------')\n",
        "print(horz_stack)"
      ],
      "metadata": {
        "colab": {
          "base_uri": "https://localhost:8080/"
        },
        "id": "fGLLeEDCHGDj",
        "outputId": "4739af36-e74a-494c-fb75-a99cb0d08703"
      },
      "execution_count": 88,
      "outputs": [
        {
          "output_type": "stream",
          "name": "stdout",
          "text": [
            "a1:\n",
            "[[1 1]\n",
            " [2 2]]\n",
            "a2:\n",
            "[[3 3]\n",
            " [4 4]]\n",
            "--------------\n",
            "[[1 1]\n",
            " [2 2]\n",
            " [3 3]\n",
            " [4 4]]\n",
            "--------------\n",
            "[[1 1 3 3]\n",
            " [2 2 4 4]]\n"
          ]
        }
      ]
    },
    {
      "cell_type": "markdown",
      "source": [
        "**Exercise**"
      ],
      "metadata": {
        "id": "bE_A53JnH8kz"
      }
    }
  ]
}